{
 "cells": [
  {
   "cell_type": "markdown",
   "metadata": {
    "colab_type": "text",
    "id": "bcRL17LvFT78"
   },
   "source": [
    "![alt text](https://drive.google.com/uc?export=view&id=1UXScsVx_Wni_JuDdB8LeTnM6jsPfIwkW)\n",
    "\n",
    "Proprietary content. © Great Learning. All Rights Reserved. Unauthorized use or distribution prohibited."
   ]
  },
  {
   "cell_type": "markdown",
   "metadata": {
    "colab_type": "text",
    "id": "T71PdNAfE4pz"
   },
   "source": [
    "### Package Version\n",
    "- scikit-learn==0.22.2\n",
    "- andas==1.0.5\n",
    "- nltk==3.2.5\n",
    "- google==2.0.3"
   ]
  },
  {
   "cell_type": "markdown",
   "metadata": {
    "colab_type": "text",
    "id": "B8DpYtDREs1K"
   },
   "source": [
    "# Predict Author Features"
   ]
  },
  {
   "cell_type": "markdown",
   "metadata": {
    "colab_type": "text",
    "id": "23QncHQR34yU"
   },
   "source": [
    "### Download and load Blog Authorship Corpus\n",
    "- Link to dataset: https://www.kaggle.com/rtatman/blog-authorship-corpus/downloads/blog-authorship-corpus.zip/2at\n",
    "\n",
    "### Dataset description\n",
    "- You can find the dataset description here:\n",
    "https://www.kaggle.com/rtatman/blog-authorship-corpus"
   ]
  },
  {
   "cell_type": "markdown",
   "metadata": {
    "colab_type": "text",
    "id": "nG5NGO7c34yX"
   },
   "source": [
    "#### Load the contents of zip file"
   ]
  },
  {
   "cell_type": "code",
   "execution_count": 1,
   "metadata": {
    "colab": {
     "base_uri": "https://localhost:8080/",
     "height": 124
    },
    "colab_type": "code",
    "executionInfo": {
     "elapsed": 39392,
     "status": "ok",
     "timestamp": 1595835399950,
     "user": {
      "displayName": "Suryansh Sharma",
      "photoUrl": "https://lh3.googleusercontent.com/a-/AOh14Gi0Ht3r8_7mNSHFKhpcyEpYvjgGcD5f34Pv5sGRpA=s64",
      "userId": "03232072030227591914"
     },
     "user_tz": -330
    },
    "id": "g3H0K9exCoDz",
    "outputId": "29f0a647-1a44-4f53-894f-6b2938898fb9"
   },
   "outputs": [
    {
     "name": "stdout",
     "output_type": "stream",
     "text": [
      "Go to this URL in a browser: https://accounts.google.com/o/oauth2/auth?client_id=947318989803-6bn6qk8qdgf4n4g3pfee6491hc0brc4i.apps.googleusercontent.com&redirect_uri=urn%3aietf%3awg%3aoauth%3a2.0%3aoob&response_type=code&scope=email%20https%3a%2f%2fwww.googleapis.com%2fauth%2fdocs.test%20https%3a%2f%2fwww.googleapis.com%2fauth%2fdrive%20https%3a%2f%2fwww.googleapis.com%2fauth%2fdrive.photos.readonly%20https%3a%2f%2fwww.googleapis.com%2fauth%2fpeopleapi.readonly\n",
      "\n",
      "Enter your authorization code:\n",
      "··········\n",
      "Mounted at /content/drive\n"
     ]
    }
   ],
   "source": [
    "from google.colab import drive\n",
    "drive.mount('/content/drive')"
   ]
  },
  {
   "cell_type": "markdown",
   "metadata": {
    "colab_type": "text",
    "id": "QI1WCMoH34yf"
   },
   "source": [
    "#### Read the csv using pandas"
   ]
  },
  {
   "cell_type": "code",
   "execution_count": 2,
   "metadata": {
    "colab": {},
    "colab_type": "code",
    "executionInfo": {
     "elapsed": 15566,
     "status": "ok",
     "timestamp": 1595835419849,
     "user": {
      "displayName": "Suryansh Sharma",
      "photoUrl": "https://lh3.googleusercontent.com/a-/AOh14Gi0Ht3r8_7mNSHFKhpcyEpYvjgGcD5f34Pv5sGRpA=s64",
      "userId": "03232072030227591914"
     },
     "user_tz": -330
    },
    "id": "UnHeJhCb34yh"
   },
   "outputs": [],
   "source": [
    "import pandas as pd\n",
    "\n",
    "df = pd.read_csv('/content/drive/My Drive/blogtext.csv')"
   ]
  },
  {
   "cell_type": "markdown",
   "metadata": {
    "colab_type": "text",
    "id": "iSdOhe9I34yr"
   },
   "source": [
    "#### Get the names of the columns"
   ]
  },
  {
   "cell_type": "code",
   "execution_count": 3,
   "metadata": {
    "colab": {
     "base_uri": "https://localhost:8080/",
     "height": 35
    },
    "colab_type": "code",
    "executionInfo": {
     "elapsed": 12379,
     "status": "ok",
     "timestamp": 1595835419852,
     "user": {
      "displayName": "Suryansh Sharma",
      "photoUrl": "https://lh3.googleusercontent.com/a-/AOh14Gi0Ht3r8_7mNSHFKhpcyEpYvjgGcD5f34Pv5sGRpA=s64",
      "userId": "03232072030227591914"
     },
     "user_tz": -330
    },
    "id": "65-iG85P34ys",
    "outputId": "fdf18987-70c0-4716-f0f9-f8e3e51bc427"
   },
   "outputs": [
    {
     "data": {
      "text/plain": [
       "Index(['id', 'gender', 'age', 'topic', 'sign', 'date', 'text'], dtype='object')"
      ]
     },
     "execution_count": 3,
     "metadata": {
      "tags": []
     },
     "output_type": "execute_result"
    }
   ],
   "source": [
    "df.columns"
   ]
  },
  {
   "cell_type": "markdown",
   "metadata": {
    "colab_type": "text",
    "id": "2QPN-2UC34yz"
   },
   "source": [
    "#### Have a look at some column values"
   ]
  },
  {
   "cell_type": "code",
   "execution_count": 4,
   "metadata": {
    "colab": {
     "base_uri": "https://localhost:8080/",
     "height": 198
    },
    "colab_type": "code",
    "executionInfo": {
     "elapsed": 11460,
     "status": "ok",
     "timestamp": 1595835419852,
     "user": {
      "displayName": "Suryansh Sharma",
      "photoUrl": "https://lh3.googleusercontent.com/a-/AOh14Gi0Ht3r8_7mNSHFKhpcyEpYvjgGcD5f34Pv5sGRpA=s64",
      "userId": "03232072030227591914"
     },
     "user_tz": -330
    },
    "id": "2CoQzKx634y0",
    "outputId": "92ec21b4-1dab-4eda-f6ef-258126b9932c"
   },
   "outputs": [
    {
     "data": {
      "text/html": [
       "<div>\n",
       "<style scoped>\n",
       "    .dataframe tbody tr th:only-of-type {\n",
       "        vertical-align: middle;\n",
       "    }\n",
       "\n",
       "    .dataframe tbody tr th {\n",
       "        vertical-align: top;\n",
       "    }\n",
       "\n",
       "    .dataframe thead th {\n",
       "        text-align: right;\n",
       "    }\n",
       "</style>\n",
       "<table border=\"1\" class=\"dataframe\">\n",
       "  <thead>\n",
       "    <tr style=\"text-align: right;\">\n",
       "      <th></th>\n",
       "      <th>id</th>\n",
       "      <th>gender</th>\n",
       "      <th>age</th>\n",
       "      <th>topic</th>\n",
       "      <th>sign</th>\n",
       "      <th>date</th>\n",
       "      <th>text</th>\n",
       "    </tr>\n",
       "  </thead>\n",
       "  <tbody>\n",
       "    <tr>\n",
       "      <th>0</th>\n",
       "      <td>2059027</td>\n",
       "      <td>male</td>\n",
       "      <td>15</td>\n",
       "      <td>Student</td>\n",
       "      <td>Leo</td>\n",
       "      <td>14,May,2004</td>\n",
       "      <td>Info has been found (+/- 100 pages,...</td>\n",
       "    </tr>\n",
       "    <tr>\n",
       "      <th>1</th>\n",
       "      <td>2059027</td>\n",
       "      <td>male</td>\n",
       "      <td>15</td>\n",
       "      <td>Student</td>\n",
       "      <td>Leo</td>\n",
       "      <td>13,May,2004</td>\n",
       "      <td>These are the team members:   Drewe...</td>\n",
       "    </tr>\n",
       "    <tr>\n",
       "      <th>2</th>\n",
       "      <td>2059027</td>\n",
       "      <td>male</td>\n",
       "      <td>15</td>\n",
       "      <td>Student</td>\n",
       "      <td>Leo</td>\n",
       "      <td>12,May,2004</td>\n",
       "      <td>In het kader van kernfusie op aarde...</td>\n",
       "    </tr>\n",
       "    <tr>\n",
       "      <th>3</th>\n",
       "      <td>2059027</td>\n",
       "      <td>male</td>\n",
       "      <td>15</td>\n",
       "      <td>Student</td>\n",
       "      <td>Leo</td>\n",
       "      <td>12,May,2004</td>\n",
       "      <td>testing!!!  testing!!!</td>\n",
       "    </tr>\n",
       "    <tr>\n",
       "      <th>4</th>\n",
       "      <td>3581210</td>\n",
       "      <td>male</td>\n",
       "      <td>33</td>\n",
       "      <td>InvestmentBanking</td>\n",
       "      <td>Aquarius</td>\n",
       "      <td>11,June,2004</td>\n",
       "      <td>Thanks to Yahoo!'s Toolbar I can ...</td>\n",
       "    </tr>\n",
       "  </tbody>\n",
       "</table>\n",
       "</div>"
      ],
      "text/plain": [
       "        id  ...                                               text\n",
       "0  2059027  ...             Info has been found (+/- 100 pages,...\n",
       "1  2059027  ...             These are the team members:   Drewe...\n",
       "2  2059027  ...             In het kader van kernfusie op aarde...\n",
       "3  2059027  ...                   testing!!!  testing!!!          \n",
       "4  3581210  ...               Thanks to Yahoo!'s Toolbar I can ...\n",
       "\n",
       "[5 rows x 7 columns]"
      ]
     },
     "execution_count": 4,
     "metadata": {
      "tags": []
     },
     "output_type": "execute_result"
    }
   ],
   "source": [
    "df.head(5)"
   ]
  },
  {
   "cell_type": "markdown",
   "metadata": {
    "colab_type": "text",
    "id": "OQMujlOu34y4"
   },
   "source": [
    "#### Check if there is any null value, and get the total count."
   ]
  },
  {
   "cell_type": "code",
   "execution_count": 5,
   "metadata": {
    "colab": {
     "base_uri": "https://localhost:8080/",
     "height": 155
    },
    "colab_type": "code",
    "executionInfo": {
     "elapsed": 10346,
     "status": "ok",
     "timestamp": 1595835419853,
     "user": {
      "displayName": "Suryansh Sharma",
      "photoUrl": "https://lh3.googleusercontent.com/a-/AOh14Gi0Ht3r8_7mNSHFKhpcyEpYvjgGcD5f34Pv5sGRpA=s64",
      "userId": "03232072030227591914"
     },
     "user_tz": -330
    },
    "id": "wf-Wt1VI34y5",
    "outputId": "a619e930-5521-49ed-f558-4b81760bb23d",
    "scrolled": true
   },
   "outputs": [
    {
     "data": {
      "text/plain": [
       "id        0\n",
       "gender    0\n",
       "age       0\n",
       "topic     0\n",
       "sign      0\n",
       "date      0\n",
       "text      0\n",
       "dtype: int64"
      ]
     },
     "execution_count": 5,
     "metadata": {
      "tags": []
     },
     "output_type": "execute_result"
    }
   ],
   "source": [
    "df.isnull().sum()"
   ]
  },
  {
   "cell_type": "markdown",
   "metadata": {
    "colab_type": "text",
    "id": "achVJuoe34y9"
   },
   "source": [
    "### Cut the data (skip this step in final run)\n",
    "Make your data short during development. So that overall process takes less time to execute and you are able to rectify all the errors fast, and check if your code is running smooth.\n",
    "When evrything is sorted at last, load the entire data and run your code on that and skip this step."
   ]
  },
  {
   "cell_type": "code",
   "execution_count": 6,
   "metadata": {
    "colab": {},
    "colab_type": "code",
    "executionInfo": {
     "elapsed": 7341,
     "status": "ok",
     "timestamp": 1595835419854,
     "user": {
      "displayName": "Suryansh Sharma",
      "photoUrl": "https://lh3.googleusercontent.com/a-/AOh14Gi0Ht3r8_7mNSHFKhpcyEpYvjgGcD5f34Pv5sGRpA=s64",
      "userId": "03232072030227591914"
     },
     "user_tz": -330
    },
    "id": "oXT2ttnF34y-"
   },
   "outputs": [],
   "source": [
    "df = df.head(3000)"
   ]
  },
  {
   "cell_type": "markdown",
   "metadata": {
    "colab_type": "text",
    "id": "IwAKaFHX34zD"
   },
   "source": [
    "## Preprocess text\n",
    "Preprocess values of text column\n",
    "\n",
    "- Remove unwanted characters\n",
    "- Convert text to lowercase\n",
    "- Remove unwanted spaces\n",
    "- Remove stopwords"
   ]
  },
  {
   "cell_type": "code",
   "execution_count": 7,
   "metadata": {
    "colab": {
     "base_uri": "https://localhost:8080/",
     "height": 52
    },
    "colab_type": "code",
    "executionInfo": {
     "elapsed": 7760,
     "status": "ok",
     "timestamp": 1595835421688,
     "user": {
      "displayName": "Suryansh Sharma",
      "photoUrl": "https://lh3.googleusercontent.com/a-/AOh14Gi0Ht3r8_7mNSHFKhpcyEpYvjgGcD5f34Pv5sGRpA=s64",
      "userId": "03232072030227591914"
     },
     "user_tz": -330
    },
    "id": "WK99q02X34zE",
    "outputId": "c41cad5b-ff9c-46ad-aa29-916d37515eb1"
   },
   "outputs": [
    {
     "name": "stdout",
     "output_type": "stream",
     "text": [
      "[nltk_data] Downloading package stopwords to /root/nltk_data...\n",
      "[nltk_data]   Unzipping corpora/stopwords.zip.\n"
     ]
    }
   ],
   "source": [
    "# Select only alphabets\n",
    "import re\n",
    "df.text = df.text.apply(lambda x: re.sub('[^A-Za-z]+', ' ', x))\n",
    "\n",
    "# Convert text to lowercase\n",
    "df.text = df.text.apply(lambda x: x.lower())\n",
    "\n",
    "# Strip unwanted spaces\n",
    "df.text = df.text.apply(lambda x: x.strip())\n",
    "\n",
    "# Remove stopwords\n",
    "import nltk\n",
    "nltk.download('stopwords')\n",
    "from nltk.corpus import stopwords\n",
    "stopwords = set(stopwords.words('english'))\n",
    "df.text = df.text.apply(lambda x: ' '.join([word for word in x.split() if word not in stopwords]))"
   ]
  },
  {
   "cell_type": "markdown",
   "metadata": {
    "colab_type": "text",
    "id": "LdWuim0934zI"
   },
   "source": [
    "Verify the preprocessing steps by looking over some values"
   ]
  },
  {
   "cell_type": "code",
   "execution_count": 8,
   "metadata": {
    "colab": {
     "base_uri": "https://localhost:8080/",
     "height": 122
    },
    "colab_type": "code",
    "executionInfo": {
     "elapsed": 6615,
     "status": "ok",
     "timestamp": 1595835421689,
     "user": {
      "displayName": "Suryansh Sharma",
      "photoUrl": "https://lh3.googleusercontent.com/a-/AOh14Gi0Ht3r8_7mNSHFKhpcyEpYvjgGcD5f34Pv5sGRpA=s64",
      "userId": "03232072030227591914"
     },
     "user_tz": -330
    },
    "id": "OFAbzRCh34zJ",
    "outputId": "4b3d2038-e071-4b03-9933-69181d6fd0a4"
   },
   "outputs": [
    {
     "data": {
      "application/vnd.google.colaboratory.intrinsic+json": {
       "type": "string"
      },
      "text/plain": [
       "'somehow coca cola way summing things well early flagship jingle like buy world coke tune like teach world sing pretty much summed post woodstock era well add much sales catchy tune korea coke theme urllink stop thinking feel pretty much sums lot korea koreans look relaxed couple stopped thinking started feeling course high regard education math logic deep think many koreans really like work emotion anything else westerners seem sublimate moreso least display different way maybe scratch westerners koreans probably pretty similar context different anyways think losing korea repeat stop thinking feel stop thinking feel stop thinking feel everything alright'"
      ]
     },
     "execution_count": 8,
     "metadata": {
      "tags": []
     },
     "output_type": "execute_result"
    }
   ],
   "source": [
    "df.text[6]"
   ]
  },
  {
   "cell_type": "markdown",
   "metadata": {
    "colab_type": "text",
    "id": "rn6zXvBP34zM"
   },
   "source": [
    "### Merge the label columns"
   ]
  },
  {
   "cell_type": "markdown",
   "metadata": {
    "colab_type": "text",
    "id": "EWIvmq7b34zN"
   },
   "source": [
    "Merge all the label columns together, so that we have all the tags together for a particular sentence"
   ]
  },
  {
   "cell_type": "code",
   "execution_count": 9,
   "metadata": {
    "colab": {},
    "colab_type": "code",
    "executionInfo": {
     "elapsed": 4072,
     "status": "ok",
     "timestamp": 1595835421690,
     "user": {
      "displayName": "Suryansh Sharma",
      "photoUrl": "https://lh3.googleusercontent.com/a-/AOh14Gi0Ht3r8_7mNSHFKhpcyEpYvjgGcD5f34Pv5sGRpA=s64",
      "userId": "03232072030227591914"
     },
     "user_tz": -330
    },
    "id": "BcgNwo6X34zO"
   },
   "outputs": [],
   "source": [
    "df['labels'] = df.apply(lambda row: [row['gender'], str(row['age']), row['topic'], row['sign']], axis=1)"
   ]
  },
  {
   "cell_type": "markdown",
   "metadata": {
    "colab_type": "text",
    "id": "GZZnsemH34zR"
   },
   "source": [
    "### Select only required columns from your dataframe"
   ]
  },
  {
   "cell_type": "code",
   "execution_count": 10,
   "metadata": {
    "colab": {},
    "colab_type": "code",
    "executionInfo": {
     "elapsed": 2300,
     "status": "ok",
     "timestamp": 1595835421691,
     "user": {
      "displayName": "Suryansh Sharma",
      "photoUrl": "https://lh3.googleusercontent.com/a-/AOh14Gi0Ht3r8_7mNSHFKhpcyEpYvjgGcD5f34Pv5sGRpA=s64",
      "userId": "03232072030227591914"
     },
     "user_tz": -330
    },
    "id": "1eU2kfOL34zS"
   },
   "outputs": [],
   "source": [
    "df = df[['text','labels']]"
   ]
  },
  {
   "cell_type": "markdown",
   "metadata": {
    "colab_type": "text",
    "id": "BjtniACL34zV"
   },
   "source": [
    "### Print final dataframe"
   ]
  },
  {
   "cell_type": "code",
   "execution_count": 11,
   "metadata": {
    "colab": {
     "base_uri": "https://localhost:8080/",
     "height": 198
    },
    "colab_type": "code",
    "executionInfo": {
     "elapsed": 852,
     "status": "ok",
     "timestamp": 1595835421695,
     "user": {
      "displayName": "Suryansh Sharma",
      "photoUrl": "https://lh3.googleusercontent.com/a-/AOh14Gi0Ht3r8_7mNSHFKhpcyEpYvjgGcD5f34Pv5sGRpA=s64",
      "userId": "03232072030227591914"
     },
     "user_tz": -330
    },
    "id": "r5U2QGhM34zW",
    "outputId": "cb9638b1-38f9-46f1-cf8f-427a241b1e53"
   },
   "outputs": [
    {
     "data": {
      "text/html": [
       "<div>\n",
       "<style scoped>\n",
       "    .dataframe tbody tr th:only-of-type {\n",
       "        vertical-align: middle;\n",
       "    }\n",
       "\n",
       "    .dataframe tbody tr th {\n",
       "        vertical-align: top;\n",
       "    }\n",
       "\n",
       "    .dataframe thead th {\n",
       "        text-align: right;\n",
       "    }\n",
       "</style>\n",
       "<table border=\"1\" class=\"dataframe\">\n",
       "  <thead>\n",
       "    <tr style=\"text-align: right;\">\n",
       "      <th></th>\n",
       "      <th>text</th>\n",
       "      <th>labels</th>\n",
       "    </tr>\n",
       "  </thead>\n",
       "  <tbody>\n",
       "    <tr>\n",
       "      <th>0</th>\n",
       "      <td>info found pages mb pdf files wait untill team...</td>\n",
       "      <td>[male, 15, Student, Leo]</td>\n",
       "    </tr>\n",
       "    <tr>\n",
       "      <th>1</th>\n",
       "      <td>team members drewes van der laag urllink mail ...</td>\n",
       "      <td>[male, 15, Student, Leo]</td>\n",
       "    </tr>\n",
       "    <tr>\n",
       "      <th>2</th>\n",
       "      <td>het kader van kernfusie op aarde maak je eigen...</td>\n",
       "      <td>[male, 15, Student, Leo]</td>\n",
       "    </tr>\n",
       "    <tr>\n",
       "      <th>3</th>\n",
       "      <td>testing testing</td>\n",
       "      <td>[male, 15, Student, Leo]</td>\n",
       "    </tr>\n",
       "    <tr>\n",
       "      <th>4</th>\n",
       "      <td>thanks yahoo toolbar capture urls popups means...</td>\n",
       "      <td>[male, 33, InvestmentBanking, Aquarius]</td>\n",
       "    </tr>\n",
       "  </tbody>\n",
       "</table>\n",
       "</div>"
      ],
      "text/plain": [
       "                                                text                                   labels\n",
       "0  info found pages mb pdf files wait untill team...                 [male, 15, Student, Leo]\n",
       "1  team members drewes van der laag urllink mail ...                 [male, 15, Student, Leo]\n",
       "2  het kader van kernfusie op aarde maak je eigen...                 [male, 15, Student, Leo]\n",
       "3                                    testing testing                 [male, 15, Student, Leo]\n",
       "4  thanks yahoo toolbar capture urls popups means...  [male, 33, InvestmentBanking, Aquarius]"
      ]
     },
     "execution_count": 11,
     "metadata": {
      "tags": []
     },
     "output_type": "execute_result"
    }
   ],
   "source": [
    "df.head()"
   ]
  },
  {
   "cell_type": "markdown",
   "metadata": {
    "colab_type": "text",
    "id": "35x5UC4V34zZ"
   },
   "source": [
    "## Create training and testing data"
   ]
  },
  {
   "cell_type": "code",
   "execution_count": 12,
   "metadata": {
    "colab": {},
    "colab_type": "code",
    "executionInfo": {
     "elapsed": 2847,
     "status": "ok",
     "timestamp": 1595835425919,
     "user": {
      "displayName": "Suryansh Sharma",
      "photoUrl": "https://lh3.googleusercontent.com/a-/AOh14Gi0Ht3r8_7mNSHFKhpcyEpYvjgGcD5f34Pv5sGRpA=s64",
      "userId": "03232072030227591914"
     },
     "user_tz": -330
    },
    "id": "XwhJKUZx34za"
   },
   "outputs": [],
   "source": [
    "from sklearn.model_selection import train_test_split\n",
    "X_train, X_test, y_train, y_test = train_test_split(df.text.values, df.labels.values, test_size=0.20, random_state=42)"
   ]
  },
  {
   "cell_type": "markdown",
   "metadata": {
    "colab_type": "text",
    "id": "nNgeN7bY34zd"
   },
   "source": [
    "## Vectorize the data"
   ]
  },
  {
   "cell_type": "markdown",
   "metadata": {
    "colab_type": "text",
    "id": "rGhmv2F034ze"
   },
   "source": [
    "### Create Bag of Words\n",
    "- Use CountVectorizer\n",
    "- Transform the training and testing data"
   ]
  },
  {
   "cell_type": "code",
   "execution_count": 13,
   "metadata": {
    "colab": {},
    "colab_type": "code",
    "executionInfo": {
     "elapsed": 4330,
     "status": "ok",
     "timestamp": 1595835431084,
     "user": {
      "displayName": "Suryansh Sharma",
      "photoUrl": "https://lh3.googleusercontent.com/a-/AOh14Gi0Ht3r8_7mNSHFKhpcyEpYvjgGcD5f34Pv5sGRpA=s64",
      "userId": "03232072030227591914"
     },
     "user_tz": -330
    },
    "id": "dxCEuvT534zf"
   },
   "outputs": [],
   "source": [
    "from sklearn.feature_extraction.text import CountVectorizer\n",
    "\n",
    "vectorizer = CountVectorizer(binary=True, ngram_range=(1, 2))\n",
    "X_train_bow = vectorizer.fit_transform(X_train)\n",
    "X_test_bow = vectorizer.transform(X_test)"
   ]
  },
  {
   "cell_type": "markdown",
   "metadata": {
    "colab_type": "text",
    "id": "G04WpfQh34zj"
   },
   "source": [
    "#### Have a look at some feature names"
   ]
  },
  {
   "cell_type": "code",
   "execution_count": 14,
   "metadata": {
    "colab": {
     "base_uri": "https://localhost:8080/",
     "height": 35
    },
    "colab_type": "code",
    "executionInfo": {
     "elapsed": 1163,
     "status": "ok",
     "timestamp": 1595835435546,
     "user": {
      "displayName": "Suryansh Sharma",
      "photoUrl": "https://lh3.googleusercontent.com/a-/AOh14Gi0Ht3r8_7mNSHFKhpcyEpYvjgGcD5f34Pv5sGRpA=s64",
      "userId": "03232072030227591914"
     },
     "user_tz": -330
    },
    "id": "wneGQ7cl34zk",
    "outputId": "4c6b4013-f84e-4e10-e0b7-a0fd61ceb1f5"
   },
   "outputs": [
    {
     "data": {
      "text/plain": [
       "['aa', 'aa compared', 'aa nice', 'aaa', 'aaa take']"
      ]
     },
     "execution_count": 14,
     "metadata": {
      "tags": []
     },
     "output_type": "execute_result"
    }
   ],
   "source": [
    "vectorizer.get_feature_names()[:5]"
   ]
  },
  {
   "cell_type": "markdown",
   "metadata": {
    "colab_type": "text",
    "id": "ha1xX4yY34zo"
   },
   "source": [
    "#### View term-document matrix"
   ]
  },
  {
   "cell_type": "code",
   "execution_count": 15,
   "metadata": {
    "colab": {
     "base_uri": "https://localhost:8080/",
     "height": 138
    },
    "colab_type": "code",
    "executionInfo": {
     "elapsed": 3817,
     "status": "ok",
     "timestamp": 1595835440910,
     "user": {
      "displayName": "Suryansh Sharma",
      "photoUrl": "https://lh3.googleusercontent.com/a-/AOh14Gi0Ht3r8_7mNSHFKhpcyEpYvjgGcD5f34Pv5sGRpA=s64",
      "userId": "03232072030227591914"
     },
     "user_tz": -330
    },
    "id": "M5ESclJP34zq",
    "outputId": "e3f725d0-d3f2-4910-be8c-bd343e066921"
   },
   "outputs": [
    {
     "data": {
      "text/plain": [
       "array([[0, 0, 0, ..., 0, 0, 0],\n",
       "       [0, 0, 0, ..., 0, 0, 0],\n",
       "       [0, 0, 0, ..., 0, 0, 0],\n",
       "       ...,\n",
       "       [0, 0, 0, ..., 0, 0, 0],\n",
       "       [0, 0, 0, ..., 0, 0, 0],\n",
       "       [0, 0, 0, ..., 0, 0, 0]])"
      ]
     },
     "execution_count": 15,
     "metadata": {
      "tags": []
     },
     "output_type": "execute_result"
    }
   ],
   "source": [
    "X_train_bow.toarray()"
   ]
  },
  {
   "cell_type": "markdown",
   "metadata": {
    "colab_type": "text",
    "id": "WT_pkHoO34zu"
   },
   "source": [
    "### Create a dictionary to get label counts"
   ]
  },
  {
   "cell_type": "code",
   "execution_count": 16,
   "metadata": {
    "colab": {},
    "colab_type": "code",
    "executionInfo": {
     "elapsed": 1918,
     "status": "ok",
     "timestamp": 1595835440911,
     "user": {
      "displayName": "Suryansh Sharma",
      "photoUrl": "https://lh3.googleusercontent.com/a-/AOh14Gi0Ht3r8_7mNSHFKhpcyEpYvjgGcD5f34Pv5sGRpA=s64",
      "userId": "03232072030227591914"
     },
     "user_tz": -330
    },
    "id": "n71bVKdo34zv"
   },
   "outputs": [],
   "source": [
    "label_counts = dict()\n",
    "\n",
    "for labels in df.labels.values:\n",
    "    for label in labels:\n",
    "        if label in label_counts:\n",
    "            label_counts[label] += 1\n",
    "        else:\n",
    "            label_counts[label] = 1"
   ]
  },
  {
   "cell_type": "markdown",
   "metadata": {
    "colab_type": "text",
    "id": "3zoWzSvq34zz"
   },
   "source": [
    "#### Print the dictionary"
   ]
  },
  {
   "cell_type": "code",
   "execution_count": 17,
   "metadata": {
    "colab": {
     "base_uri": "https://localhost:8080/",
     "height": 829
    },
    "colab_type": "code",
    "executionInfo": {
     "elapsed": 794,
     "status": "ok",
     "timestamp": 1595835443059,
     "user": {
      "displayName": "Suryansh Sharma",
      "photoUrl": "https://lh3.googleusercontent.com/a-/AOh14Gi0Ht3r8_7mNSHFKhpcyEpYvjgGcD5f34Pv5sGRpA=s64",
      "userId": "03232072030227591914"
     },
     "user_tz": -330
    },
    "id": "5bXDgiwD34z0",
    "outputId": "b04f06bf-917b-4c35-e995-0b250042475e"
   },
   "outputs": [
    {
     "data": {
      "text/plain": [
       "{'14': 74,\n",
       " '15': 299,\n",
       " '16': 25,\n",
       " '17': 147,\n",
       " '23': 93,\n",
       " '24': 334,\n",
       " '25': 110,\n",
       " '26': 43,\n",
       " '27': 86,\n",
       " '33': 94,\n",
       " '34': 6,\n",
       " '35': 1607,\n",
       " '37': 19,\n",
       " '39': 32,\n",
       " '41': 14,\n",
       " '44': 3,\n",
       " '45': 14,\n",
       " 'Accounting': 2,\n",
       " 'Aquarius': 286,\n",
       " 'Aries': 1699,\n",
       " 'Arts': 2,\n",
       " 'Banking': 16,\n",
       " 'BusinessServices': 21,\n",
       " 'Cancer': 76,\n",
       " 'Capricorn': 77,\n",
       " 'Communications-Media': 14,\n",
       " 'Education': 118,\n",
       " 'Engineering': 119,\n",
       " 'Gemini': 21,\n",
       " 'Internet': 20,\n",
       " 'InvestmentBanking': 70,\n",
       " 'Leo': 55,\n",
       " 'Libra': 313,\n",
       " 'Museums-Libraries': 2,\n",
       " 'Non-Profit': 46,\n",
       " 'Pisces': 2,\n",
       " 'Sagittarius': 113,\n",
       " 'Science': 33,\n",
       " 'Scorpio': 243,\n",
       " 'Sports-Recreation': 75,\n",
       " 'Student': 403,\n",
       " 'Taurus': 76,\n",
       " 'Technology': 1607,\n",
       " 'Virgo': 39,\n",
       " 'female': 728,\n",
       " 'indUnk': 452,\n",
       " 'male': 2272}"
      ]
     },
     "execution_count": 17,
     "metadata": {
      "tags": []
     },
     "output_type": "execute_result"
    }
   ],
   "source": [
    "label_counts"
   ]
  },
  {
   "cell_type": "markdown",
   "metadata": {
    "colab_type": "text",
    "id": "OAa0bCY234z3"
   },
   "source": [
    "## Multi label binarizer\n",
    "\n",
    "Load a multilabel binarizer and fit it on the labels."
   ]
  },
  {
   "cell_type": "code",
   "execution_count": 18,
   "metadata": {
    "colab": {},
    "colab_type": "code",
    "executionInfo": {
     "elapsed": 1182,
     "status": "ok",
     "timestamp": 1595835448079,
     "user": {
      "displayName": "Suryansh Sharma",
      "photoUrl": "https://lh3.googleusercontent.com/a-/AOh14Gi0Ht3r8_7mNSHFKhpcyEpYvjgGcD5f34Pv5sGRpA=s64",
      "userId": "03232072030227591914"
     },
     "user_tz": -330
    },
    "id": "w_6gL7JX34z5"
   },
   "outputs": [],
   "source": [
    "from sklearn.preprocessing import MultiLabelBinarizer\n",
    "\n",
    "mlb = MultiLabelBinarizer(classes=sorted(label_counts.keys()))\n",
    "y_train = mlb.fit_transform(y_train)\n",
    "y_test = mlb.transform(y_test)"
   ]
  },
  {
   "cell_type": "markdown",
   "metadata": {
    "colab_type": "text",
    "id": "zBWM7_CT34z9"
   },
   "source": [
    "## Classifier\n",
    "\n",
    "Use a linear classifier of your choice, wrap it up in OneVsRestClassifier to train it on every label."
   ]
  },
  {
   "cell_type": "code",
   "execution_count": null,
   "metadata": {
    "colab": {},
    "colab_type": "code",
    "id": "tTDalv2-34z-"
   },
   "outputs": [],
   "source": [
    "from sklearn.multiclass import OneVsRestClassifier\n",
    "from sklearn.linear_model import LogisticRegression\n",
    "\n",
    "clf = LogisticRegression(solver='lbfgs')\n",
    "clf = OneVsRestClassifier(clf)"
   ]
  },
  {
   "cell_type": "markdown",
   "metadata": {
    "colab_type": "text",
    "id": "b4njir1Z340B"
   },
   "source": [
    "### Fit the classifier"
   ]
  },
  {
   "cell_type": "code",
   "execution_count": null,
   "metadata": {
    "colab": {
     "base_uri": "https://localhost:8080/",
     "height": 190
    },
    "colab_type": "code",
    "executionInfo": {
     "elapsed": 62542,
     "status": "ok",
     "timestamp": 1592914688623,
     "user": {
      "displayName": "Suryansh Sharma",
      "photoUrl": "https://lh3.googleusercontent.com/a-/AOh14Gi0Ht3r8_7mNSHFKhpcyEpYvjgGcD5f34Pv5sGRpA=s64",
      "userId": "03232072030227591914"
     },
     "user_tz": -330
    },
    "id": "BjqY1DlA340C",
    "outputId": "60f3c727-77f5-4e42-9fd6-4632f7b8700e"
   },
   "outputs": [
    {
     "data": {
      "text/plain": [
       "OneVsRestClassifier(estimator=LogisticRegression(C=1.0, class_weight=None,\n",
       "                                                 dual=False, fit_intercept=True,\n",
       "                                                 intercept_scaling=1,\n",
       "                                                 l1_ratio=None, max_iter=100,\n",
       "                                                 multi_class='auto',\n",
       "                                                 n_jobs=None, penalty='l2',\n",
       "                                                 random_state=None,\n",
       "                                                 solver='lbfgs', tol=0.0001,\n",
       "                                                 verbose=0, warm_start=False),\n",
       "                    n_jobs=None)"
      ]
     },
     "execution_count": 23,
     "metadata": {
      "tags": []
     },
     "output_type": "execute_result"
    }
   ],
   "source": [
    "clf.fit(X_train_bow, y_train)"
   ]
  },
  {
   "cell_type": "markdown",
   "metadata": {
    "colab_type": "text",
    "id": "7rgEfe6l340G"
   },
   "source": [
    "## Make predictions\n",
    "- Get predicted labels and scores"
   ]
  },
  {
   "cell_type": "code",
   "execution_count": null,
   "metadata": {
    "colab": {},
    "colab_type": "code",
    "id": "eBcgoW8O340H"
   },
   "outputs": [],
   "source": [
    "predicted_labels = clf.predict(X_test_bow)\n",
    "predicted_scores = clf.decision_function(X_test_bow)"
   ]
  },
  {
   "cell_type": "markdown",
   "metadata": {
    "colab_type": "text",
    "id": "0-pvYIj9340K"
   },
   "source": [
    "### Get inverse transform for predicted labels and test labels"
   ]
  },
  {
   "cell_type": "code",
   "execution_count": null,
   "metadata": {
    "colab": {},
    "colab_type": "code",
    "id": "SLXR4BIE340L"
   },
   "outputs": [],
   "source": [
    "pred_inversed = mlb.inverse_transform(predicted_labels)\n",
    "y_test_inversed = mlb.inverse_transform(y_test)"
   ]
  },
  {
   "cell_type": "markdown",
   "metadata": {
    "colab_type": "text",
    "id": "05Vmhsrs340P"
   },
   "source": [
    "### Print some samples"
   ]
  },
  {
   "cell_type": "code",
   "execution_count": null,
   "metadata": {
    "colab": {
     "base_uri": "https://localhost:8080/",
     "height": 469
    },
    "colab_type": "code",
    "executionInfo": {
     "elapsed": 62439,
     "status": "ok",
     "timestamp": 1592914688629,
     "user": {
      "displayName": "Suryansh Sharma",
      "photoUrl": "https://lh3.googleusercontent.com/a-/AOh14Gi0Ht3r8_7mNSHFKhpcyEpYvjgGcD5f34Pv5sGRpA=s64",
      "userId": "03232072030227591914"
     },
     "user_tz": -330
    },
    "id": "Iax6yXDj340R",
    "outputId": "1afb5ac3-22b0-4a31-8303-40e34c48aca1"
   },
   "outputs": [
    {
     "name": "stdout",
     "output_type": "stream",
     "text": [
      "Title:\tpink already done sure phoenix tho\n",
      "True labels:\t35,Aries,Technology,male\n",
      "Predicted labels:\t35,Aries,Technology,male\n",
      "\n",
      "\n",
      "Title:\twoohoo tomorrow probably means need clean place bit uh oh since jen going get car able least grab furniture somewhere sit timed perfectly pool opening weekend slaving away work lie pool fight cicadas got hdtv cable hookup unfortunately demand function seems broken meantime get early today someone come look brighter side things techie managed blag two u dual piii machines free swap mobo reasonable case hook home idea use yet betting munch seti units meantime figure one last thing hell alt gr button us keyboards annoys type alt euro symbol remember code accented e etc know could change keymap uk whatever alt gr option something end rant\n",
      "True labels:\t25,Aries,Internet,male\n",
      "Predicted labels:\tmale\n",
      "\n",
      "\n",
      "Title:\tactually johnathan called late last night sounding groggy thanking something could barely make innane babble wondering saying hoped guess name\n",
      "True labels:\t35,Aries,Technology,male\n",
      "Predicted labels:\t35,Aries,Technology,male\n",
      "\n",
      "\n",
      "Title:\tyesterday driving somewhere mongolia crossed mind realized knew nothing country vague notion one point history mongol hordes swept across land killing bunch people stuff got beat back become hermits last time rememberanything happeneing anything world never mongolia started thinking portugal never hear anything portugal either understand mongolia way hell way near siberia may even part russia china days portugal man right edge europe never hear anything mean anything portugal remember talking wwii school leraned spain neutral war knew pretty much every european country stood every one aside portugal happened vanish age exploration anyone bothered check since obviously internet right know could read places would easy think time v started informing us countries really talk already need hear mongolia portugal estonia others know name never hear stop geographical elitism\n",
      "True labels:\t26,Leo,indUnk,male\n",
      "Predicted labels:\tmale\n",
      "\n",
      "\n",
      "Title:\tinhale ohjesushchristadogwithacrayonsignaroundhisneckgoingofftokillsarahconnorohdeargodthatsafunnyimage ehxhale\n",
      "True labels:\t35,Aries,Technology,male\n",
      "Predicted labels:\t35,Aries,Technology,male\n",
      "\n",
      "\n"
     ]
    }
   ],
   "source": [
    "for i in range(5):\n",
    "    print('Title:\\t{}\\nTrue labels:\\t{}\\nPredicted labels:\\t{}\\n\\n'.format(\n",
    "        X_test[i],\n",
    "        ','.join(y_test_inversed[i]),\n",
    "        ','.join(pred_inversed[i])\n",
    "    ))"
   ]
  },
  {
   "cell_type": "markdown",
   "metadata": {
    "colab_type": "text",
    "id": "VwWuEQdq340U"
   },
   "source": [
    "## Calculate accuracy\n",
    "- Accuracy\n",
    "- F1-score\n",
    "- Precision\n",
    "- Recall"
   ]
  },
  {
   "cell_type": "code",
   "execution_count": null,
   "metadata": {
    "colab": {},
    "colab_type": "code",
    "id": "uN3ODxXt340U"
   },
   "outputs": [],
   "source": [
    "from sklearn.metrics import accuracy_score\n",
    "from sklearn.metrics import f1_score\n",
    "from sklearn.metrics import average_precision_score\n",
    "from sklearn.metrics import recall_score\n",
    "\n",
    "def print_evaluation_scores(y_val, predicted):\n",
    "    print('Accuracy score: ', accuracy_score(y_val, predicted))\n",
    "    print('F1 score: ', f1_score(y_val, predicted, average='micro'))\n",
    "    print('Average precision score: ', average_precision_score(y_val, predicted, average='micro'))\n",
    "    print('Average recall score: ', recall_score(y_val, predicted, average='micro'))"
   ]
  },
  {
   "cell_type": "code",
   "execution_count": null,
   "metadata": {
    "colab": {
     "base_uri": "https://localhost:8080/",
     "height": 104
    },
    "colab_type": "code",
    "executionInfo": {
     "elapsed": 62361,
     "status": "ok",
     "timestamp": 1592914688630,
     "user": {
      "displayName": "Suryansh Sharma",
      "photoUrl": "https://lh3.googleusercontent.com/a-/AOh14Gi0Ht3r8_7mNSHFKhpcyEpYvjgGcD5f34Pv5sGRpA=s64",
      "userId": "03232072030227591914"
     },
     "user_tz": -330
    },
    "id": "eIXQFl45340X",
    "outputId": "6397b61c-d14b-4d12-d952-f628ff205536",
    "scrolled": true
   },
   "outputs": [
    {
     "name": "stdout",
     "output_type": "stream",
     "text": [
      "Bag-of-words\n",
      "Accuracy score:  0.5233333333333333\n",
      "F1 score:  0.7215575885526625\n",
      "Average precision score:  0.5596074546125939\n",
      "Average recall score:  0.6408333333333334\n"
     ]
    }
   ],
   "source": [
    "print('Bag-of-words')\n",
    "print_evaluation_scores(y_test, predicted_labels)"
   ]
  },
  {
   "cell_type": "code",
   "execution_count": null,
   "metadata": {
    "colab": {},
    "colab_type": "code",
    "id": "ejEYRq2k340d"
   },
   "outputs": [],
   "source": []
  }
 ],
 "metadata": {
  "colab": {
   "collapsed_sections": [],
   "name": "Solution - Project - Statistical NLP - Author Features Prediction.ipynb",
   "provenance": [],
   "toc_visible": true
  },
  "kernelspec": {
   "display_name": "Python 3 (ipykernel)",
   "language": "python",
   "name": "python3"
  },
  "language_info": {
   "codemirror_mode": {
    "name": "ipython",
    "version": 3
   },
   "file_extension": ".py",
   "mimetype": "text/x-python",
   "name": "python",
   "nbconvert_exporter": "python",
   "pygments_lexer": "ipython3",
   "version": "3.9.7"
  }
 },
 "nbformat": 4,
 "nbformat_minor": 1
}
