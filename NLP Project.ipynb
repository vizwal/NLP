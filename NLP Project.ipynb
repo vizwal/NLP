{
 "cells": [
  {
   "cell_type": "code",
   "execution_count": 1,
   "id": "23fc2443",
   "metadata": {},
   "outputs": [],
   "source": [
    "import numpy as np\n",
    "import pandas as pd"
   ]
  },
  {
   "cell_type": "markdown",
   "id": "d78730b2",
   "metadata": {},
   "source": [
    "## Load the Data Set"
   ]
  },
  {
   "cell_type": "code",
   "execution_count": 2,
   "id": "4195952d",
   "metadata": {},
   "outputs": [
    {
     "data": {
      "text/html": [
       "<div>\n",
       "<style scoped>\n",
       "    .dataframe tbody tr th:only-of-type {\n",
       "        vertical-align: middle;\n",
       "    }\n",
       "\n",
       "    .dataframe tbody tr th {\n",
       "        vertical-align: top;\n",
       "    }\n",
       "\n",
       "    .dataframe thead th {\n",
       "        text-align: right;\n",
       "    }\n",
       "</style>\n",
       "<table border=\"1\" class=\"dataframe\">\n",
       "  <thead>\n",
       "    <tr style=\"text-align: right;\">\n",
       "      <th></th>\n",
       "      <th>id</th>\n",
       "      <th>gender</th>\n",
       "      <th>age</th>\n",
       "      <th>topic</th>\n",
       "      <th>sign</th>\n",
       "      <th>date</th>\n",
       "      <th>text</th>\n",
       "    </tr>\n",
       "  </thead>\n",
       "  <tbody>\n",
       "    <tr>\n",
       "      <th>0</th>\n",
       "      <td>2059027</td>\n",
       "      <td>male</td>\n",
       "      <td>15</td>\n",
       "      <td>Student</td>\n",
       "      <td>Leo</td>\n",
       "      <td>14,May,2004</td>\n",
       "      <td>Info has been found (+/- 100 pages,...</td>\n",
       "    </tr>\n",
       "    <tr>\n",
       "      <th>1</th>\n",
       "      <td>2059027</td>\n",
       "      <td>male</td>\n",
       "      <td>15</td>\n",
       "      <td>Student</td>\n",
       "      <td>Leo</td>\n",
       "      <td>13,May,2004</td>\n",
       "      <td>These are the team members:   Drewe...</td>\n",
       "    </tr>\n",
       "    <tr>\n",
       "      <th>2</th>\n",
       "      <td>2059027</td>\n",
       "      <td>male</td>\n",
       "      <td>15</td>\n",
       "      <td>Student</td>\n",
       "      <td>Leo</td>\n",
       "      <td>12,May,2004</td>\n",
       "      <td>In het kader van kernfusie op aarde...</td>\n",
       "    </tr>\n",
       "    <tr>\n",
       "      <th>3</th>\n",
       "      <td>2059027</td>\n",
       "      <td>male</td>\n",
       "      <td>15</td>\n",
       "      <td>Student</td>\n",
       "      <td>Leo</td>\n",
       "      <td>12,May,2004</td>\n",
       "      <td>testing!!!  testing!!!</td>\n",
       "    </tr>\n",
       "    <tr>\n",
       "      <th>4</th>\n",
       "      <td>3581210</td>\n",
       "      <td>male</td>\n",
       "      <td>33</td>\n",
       "      <td>InvestmentBanking</td>\n",
       "      <td>Aquarius</td>\n",
       "      <td>11,June,2004</td>\n",
       "      <td>Thanks to Yahoo!'s Toolbar I can ...</td>\n",
       "    </tr>\n",
       "  </tbody>\n",
       "</table>\n",
       "</div>"
      ],
      "text/plain": [
       "        id gender  age              topic      sign          date  \\\n",
       "0  2059027   male   15            Student       Leo   14,May,2004   \n",
       "1  2059027   male   15            Student       Leo   13,May,2004   \n",
       "2  2059027   male   15            Student       Leo   12,May,2004   \n",
       "3  2059027   male   15            Student       Leo   12,May,2004   \n",
       "4  3581210   male   33  InvestmentBanking  Aquarius  11,June,2004   \n",
       "\n",
       "                                                text  \n",
       "0             Info has been found (+/- 100 pages,...  \n",
       "1             These are the team members:   Drewe...  \n",
       "2             In het kader van kernfusie op aarde...  \n",
       "3                   testing!!!  testing!!!            \n",
       "4               Thanks to Yahoo!'s Toolbar I can ...  "
      ]
     },
     "execution_count": 2,
     "metadata": {},
     "output_type": "execute_result"
    }
   ],
   "source": [
    "df=pd.read_csv(\"blogtext.csv\")\n",
    "df.head()"
   ]
  },
  {
   "cell_type": "code",
   "execution_count": 3,
   "id": "be01673b",
   "metadata": {},
   "outputs": [
    {
     "data": {
      "text/plain": [
       "(681284, 7)"
      ]
     },
     "execution_count": 3,
     "metadata": {},
     "output_type": "execute_result"
    }
   ],
   "source": [
    "df.shape"
   ]
  },
  {
   "cell_type": "markdown",
   "id": "454a2f10",
   "metadata": {},
   "source": [
    "#### Check if there is any null value, and get the total count."
   ]
  },
  {
   "cell_type": "code",
   "execution_count": 4,
   "id": "dd11b71f",
   "metadata": {},
   "outputs": [
    {
     "data": {
      "text/plain": [
       "id        0\n",
       "gender    0\n",
       "age       0\n",
       "topic     0\n",
       "sign      0\n",
       "date      0\n",
       "text      0\n",
       "dtype: int64"
      ]
     },
     "execution_count": 4,
     "metadata": {},
     "output_type": "execute_result"
    }
   ],
   "source": [
    "df.isnull().sum()"
   ]
  },
  {
   "cell_type": "code",
   "execution_count": 5,
   "id": "1642616e",
   "metadata": {},
   "outputs": [],
   "source": [
    "df=df.head(100)"
   ]
  },
  {
   "cell_type": "markdown",
   "id": "a2daff9a",
   "metadata": {},
   "source": [
    "## Preprocess rows of the “text” column\n",
    "- a.Remove unwanted characters\n",
    "- b.Convert text to lowercase\n",
    "- c.Remove unwanted spaces\n",
    "- d.Remove stopwords"
   ]
  },
  {
   "cell_type": "code",
   "execution_count": 6,
   "id": "9d36436d",
   "metadata": {},
   "outputs": [
    {
     "name": "stderr",
     "output_type": "stream",
     "text": [
      "[nltk_data] Downloading package stopwords to /Users/luv/nltk_data...\n",
      "[nltk_data]   Package stopwords is already up-to-date!\n"
     ]
    }
   ],
   "source": [
    "# Select only alphabets\n",
    "import re\n",
    "df.text = df.text.apply(lambda x: re.sub('[^A-Za-z]+', ' ', x))\n",
    "\n",
    "# Convert text to lowercase\n",
    "df.text = df.text.apply(lambda x: x.lower())\n",
    "\n",
    "# Strip unwanted spaces\n",
    "df.text = df.text.apply(lambda x: x.strip())\n",
    "\n",
    "# Remove stopwords\n",
    "import nltk\n",
    "nltk.download('stopwords')\n",
    "from nltk.corpus import stopwords\n",
    "stopwords = set(stopwords.words('english'))\n",
    "df.text = df.text.apply(lambda x: ' '.join([word for word in x.split() if word not in stopwords]))"
   ]
  },
  {
   "cell_type": "code",
   "execution_count": 8,
   "id": "48742b4a",
   "metadata": {},
   "outputs": [
    {
     "data": {
      "text/plain": [
       "'last night pretty fun mostly company kept recently met couple finance types yeouido hard referred korea wall street spoke pretty good english rarity yeouido everywhere korea studied outside korea deal international business still brutal canadian accent made pretty tough figure saying sometimes one time accent got way though went restaurant guy junseok gal named hye kyung asked like deok wrote heard thought meant dog eat called bluff said sure let go kind dog oh deok deok ya dog deok said figured meant duck said oh oh ri duck gay dog speak korean know food great went obligatory ee cha thanks hye kyung correction second round koreans never go one place eat drink usually wander streets go three four five places couple weeks ago hongdae university bar district went places san nak ji living octopus restaurant old rock cool bar noraebang korean word karaoke finally clubnb noise basement wee hours morning personally prefer kangnam version clubnb since hongdae went one coolest thing bar hopping pub crawling almost never lineup rarely cover clubs never bars think people always moving canada get bar never never leave go home means want get lineup also korean asked wait anything especially drinks balk leave bar owner would like maybe koreans general moving around canadians sedate relatively lived places know mean update looks like everyone wants blog reason pics gracious hosts evening urllink junseok works international business mba trying come fitting western name one suggest leave comment please urllink hae kyung works mba wife alma mater ewha women university less hae kyung really good english quite bright single men take note thinks face looks like moon daldeong ee say guess'"
      ]
     },
     "execution_count": 8,
     "metadata": {},
     "output_type": "execute_result"
    }
   ],
   "source": [
    "df.text[12]"
   ]
  },
  {
   "cell_type": "markdown",
   "id": "21376263",
   "metadata": {},
   "source": [
    "## Merge the label columns"
   ]
  },
  {
   "cell_type": "code",
   "execution_count": 9,
   "id": "1f184927",
   "metadata": {},
   "outputs": [],
   "source": [
    "df['labels'] = df.apply(lambda row: [row['gender'], str(row['age']), row['topic'], row['sign']], axis=1)"
   ]
  },
  {
   "cell_type": "markdown",
   "id": "5b96354c",
   "metadata": {},
   "source": [
    "### Select only required columns from your dataframe"
   ]
  },
  {
   "cell_type": "code",
   "execution_count": 10,
   "id": "c6ac5622",
   "metadata": {},
   "outputs": [],
   "source": [
    "df = df[['text','labels']]"
   ]
  },
  {
   "cell_type": "code",
   "execution_count": 11,
   "id": "d2a55be0",
   "metadata": {},
   "outputs": [
    {
     "data": {
      "text/plain": [
       "(100, 2)"
      ]
     },
     "execution_count": 11,
     "metadata": {},
     "output_type": "execute_result"
    }
   ],
   "source": [
    "df.shape"
   ]
  },
  {
   "cell_type": "markdown",
   "id": "54e7adaf",
   "metadata": {},
   "source": [
    "### Print final dataframe¶"
   ]
  },
  {
   "cell_type": "code",
   "execution_count": 12,
   "id": "11b5fe4d",
   "metadata": {},
   "outputs": [
    {
     "data": {
      "text/html": [
       "<div>\n",
       "<style scoped>\n",
       "    .dataframe tbody tr th:only-of-type {\n",
       "        vertical-align: middle;\n",
       "    }\n",
       "\n",
       "    .dataframe tbody tr th {\n",
       "        vertical-align: top;\n",
       "    }\n",
       "\n",
       "    .dataframe thead th {\n",
       "        text-align: right;\n",
       "    }\n",
       "</style>\n",
       "<table border=\"1\" class=\"dataframe\">\n",
       "  <thead>\n",
       "    <tr style=\"text-align: right;\">\n",
       "      <th></th>\n",
       "      <th>text</th>\n",
       "      <th>labels</th>\n",
       "    </tr>\n",
       "  </thead>\n",
       "  <tbody>\n",
       "    <tr>\n",
       "      <th>0</th>\n",
       "      <td>info found pages mb pdf files wait untill team...</td>\n",
       "      <td>[male, 15, Student, Leo]</td>\n",
       "    </tr>\n",
       "    <tr>\n",
       "      <th>1</th>\n",
       "      <td>team members drewes van der laag urllink mail ...</td>\n",
       "      <td>[male, 15, Student, Leo]</td>\n",
       "    </tr>\n",
       "    <tr>\n",
       "      <th>2</th>\n",
       "      <td>het kader van kernfusie op aarde maak je eigen...</td>\n",
       "      <td>[male, 15, Student, Leo]</td>\n",
       "    </tr>\n",
       "    <tr>\n",
       "      <th>3</th>\n",
       "      <td>testing testing</td>\n",
       "      <td>[male, 15, Student, Leo]</td>\n",
       "    </tr>\n",
       "    <tr>\n",
       "      <th>4</th>\n",
       "      <td>thanks yahoo toolbar capture urls popups means...</td>\n",
       "      <td>[male, 33, InvestmentBanking, Aquarius]</td>\n",
       "    </tr>\n",
       "  </tbody>\n",
       "</table>\n",
       "</div>"
      ],
      "text/plain": [
       "                                                text  \\\n",
       "0  info found pages mb pdf files wait untill team...   \n",
       "1  team members drewes van der laag urllink mail ...   \n",
       "2  het kader van kernfusie op aarde maak je eigen...   \n",
       "3                                    testing testing   \n",
       "4  thanks yahoo toolbar capture urls popups means...   \n",
       "\n",
       "                                    labels  \n",
       "0                 [male, 15, Student, Leo]  \n",
       "1                 [male, 15, Student, Leo]  \n",
       "2                 [male, 15, Student, Leo]  \n",
       "3                 [male, 15, Student, Leo]  \n",
       "4  [male, 33, InvestmentBanking, Aquarius]  "
      ]
     },
     "execution_count": 12,
     "metadata": {},
     "output_type": "execute_result"
    }
   ],
   "source": [
    "df.head()"
   ]
  },
  {
   "cell_type": "markdown",
   "id": "608e943b",
   "metadata": {},
   "source": [
    "## Create training and testing data"
   ]
  },
  {
   "cell_type": "code",
   "execution_count": 13,
   "id": "3aca2847",
   "metadata": {},
   "outputs": [],
   "source": [
    "from sklearn.model_selection import train_test_split\n",
    "X_train, X_test, y_train, y_test = train_test_split(df.text.values, df.labels.values, test_size=0.20, random_state=42)"
   ]
  },
  {
   "cell_type": "markdown",
   "id": "04bc822b",
   "metadata": {},
   "source": [
    "## Vectorize the data\n",
    "- a.Create a Bag of Words using count vectorizer\n",
    "    - i.Use ngram_range=(1, 2)\n",
    "    - ii.Vectorize training and testing featuresb.\n",
    "- Print the term-document matrix\n"
   ]
  },
  {
   "cell_type": "markdown",
   "id": "59e0b8f1",
   "metadata": {},
   "source": [
    "### Create Bag of Words\n"
   ]
  },
  {
   "cell_type": "code",
   "execution_count": 14,
   "id": "c33c3b81",
   "metadata": {},
   "outputs": [],
   "source": [
    "from sklearn.feature_extraction.text import CountVectorizer\n",
    "vectorizer = CountVectorizer(binary=True, ngram_range=(1, 2))"
   ]
  },
  {
   "cell_type": "code",
   "execution_count": 15,
   "id": "96737ace",
   "metadata": {},
   "outputs": [],
   "source": [
    "X_train_bow = vectorizer.fit_transform(X_train)"
   ]
  },
  {
   "cell_type": "code",
   "execution_count": 16,
   "id": "61d02037",
   "metadata": {},
   "outputs": [],
   "source": [
    "X_test_bow = vectorizer.transform(X_test)"
   ]
  },
  {
   "cell_type": "markdown",
   "id": "b8e3e9db",
   "metadata": {},
   "source": [
    "#### Have a look at some feature names"
   ]
  },
  {
   "cell_type": "code",
   "execution_count": 17,
   "id": "a3ab76ca",
   "metadata": {},
   "outputs": [
    {
     "name": "stderr",
     "output_type": "stream",
     "text": [
      "/Users/luv/opt/anaconda3/lib/python3.9/site-packages/sklearn/utils/deprecation.py:87: FutureWarning: Function get_feature_names is deprecated; get_feature_names is deprecated in 1.0 and will be removed in 1.2. Please use get_feature_names_out instead.\n",
      "  warnings.warn(msg, category=FutureWarning)\n"
     ]
    },
    {
     "data": {
      "text/plain": [
       "['aaldering', 'aaldering urllink', 'aarde', 'aarde maak', 'abandons']"
      ]
     },
     "execution_count": 17,
     "metadata": {},
     "output_type": "execute_result"
    }
   ],
   "source": [
    "vectorizer.get_feature_names()[:5]"
   ]
  },
  {
   "cell_type": "markdown",
   "id": "57368039",
   "metadata": {},
   "source": [
    "#### Print term-document matrix"
   ]
  },
  {
   "cell_type": "code",
   "execution_count": 18,
   "id": "75dd55d8",
   "metadata": {},
   "outputs": [
    {
     "data": {
      "text/plain": [
       "array([[0, 0, 0, ..., 0, 0, 0],\n",
       "       [0, 0, 0, ..., 0, 0, 0],\n",
       "       [0, 0, 0, ..., 0, 0, 0],\n",
       "       ...,\n",
       "       [0, 0, 0, ..., 0, 0, 0],\n",
       "       [0, 0, 0, ..., 0, 0, 0],\n",
       "       [0, 0, 0, ..., 0, 0, 0]])"
      ]
     },
     "execution_count": 18,
     "metadata": {},
     "output_type": "execute_result"
    }
   ],
   "source": [
    "X_train_bow.toarray()"
   ]
  },
  {
   "cell_type": "markdown",
   "id": "02a12a9b",
   "metadata": {},
   "source": [
    "### Create a dictionary to get label counts"
   ]
  },
  {
   "cell_type": "code",
   "execution_count": 19,
   "id": "f7c1484f",
   "metadata": {},
   "outputs": [],
   "source": [
    "label_counts = dict()\n",
    "for labels in df.labels.values:\n",
    "    for label in labels:\n",
    "        if label in label_counts:\n",
    "            label_counts[label] += 1\n",
    "        else:\n",
    "            label_counts[label] = 1"
   ]
  },
  {
   "cell_type": "markdown",
   "id": "2dd7bba0",
   "metadata": {},
   "source": [
    "#### Print the dictionary"
   ]
  },
  {
   "cell_type": "code",
   "execution_count": 20,
   "id": "80cee972",
   "metadata": {},
   "outputs": [
    {
     "data": {
      "text/plain": [
       "{'male': 74,\n",
       " '15': 4,\n",
       " 'Student': 7,\n",
       " 'Leo': 4,\n",
       " '33': 70,\n",
       " 'InvestmentBanking': 70,\n",
       " 'Aquarius': 70,\n",
       " 'female': 26,\n",
       " '14': 21,\n",
       " 'indUnk': 23,\n",
       " 'Aries': 21,\n",
       " '25': 2,\n",
       " 'Capricorn': 2,\n",
       " '17': 3,\n",
       " 'Gemini': 3}"
      ]
     },
     "execution_count": 20,
     "metadata": {},
     "output_type": "execute_result"
    }
   ],
   "source": [
    "label_counts"
   ]
  },
  {
   "cell_type": "markdown",
   "id": "7e51c8ea",
   "metadata": {},
   "source": [
    "## Multi label binarizer"
   ]
  },
  {
   "cell_type": "code",
   "execution_count": 21,
   "id": "ee5f1cca",
   "metadata": {},
   "outputs": [],
   "source": [
    "from sklearn.preprocessing import MultiLabelBinarizer\n",
    "mlb = MultiLabelBinarizer(classes=sorted(label_counts.keys()))\n",
    "y_train = mlb.fit_transform(y_train)\n",
    "y_test = mlb.transform(y_test)"
   ]
  },
  {
   "cell_type": "markdown",
   "id": "10b72bda",
   "metadata": {},
   "source": [
    "## Classifier"
   ]
  },
  {
   "cell_type": "code",
   "execution_count": 22,
   "id": "2b894a9a",
   "metadata": {},
   "outputs": [],
   "source": [
    "from sklearn.multiclass import OneVsRestClassifier\n",
    "from sklearn.linear_model import LogisticRegression\n",
    "\n",
    "clf = LogisticRegression(solver='lbfgs')\n",
    "clf = OneVsRestClassifier(clf)"
   ]
  },
  {
   "cell_type": "markdown",
   "id": "d77f060c",
   "metadata": {},
   "source": [
    "### Fit the classifier"
   ]
  },
  {
   "cell_type": "code",
   "execution_count": 23,
   "id": "d8a12897",
   "metadata": {},
   "outputs": [
    {
     "data": {
      "text/plain": [
       "OneVsRestClassifier(estimator=LogisticRegression())"
      ]
     },
     "execution_count": 23,
     "metadata": {},
     "output_type": "execute_result"
    }
   ],
   "source": [
    "clf.fit(X_train_bow, y_train)"
   ]
  },
  {
   "cell_type": "markdown",
   "id": "8a41ee8b",
   "metadata": {},
   "source": [
    "## Make predictions"
   ]
  },
  {
   "cell_type": "code",
   "execution_count": 24,
   "id": "94e3ffd1",
   "metadata": {},
   "outputs": [],
   "source": [
    "predicted_labels = clf.predict(X_test_bow)\n",
    "predicted_scores = clf.decision_function(X_test_bow)"
   ]
  },
  {
   "cell_type": "markdown",
   "id": "f2fe1f12",
   "metadata": {},
   "source": [
    "### Get inverse transform for predicted labels and test labels"
   ]
  },
  {
   "cell_type": "code",
   "execution_count": 25,
   "id": "acb502ae",
   "metadata": {},
   "outputs": [],
   "source": [
    "pred_inversed = mlb.inverse_transform(predicted_labels)\n",
    "y_test_inversed = mlb.inverse_transform(y_test)"
   ]
  },
  {
   "cell_type": "markdown",
   "id": "947760e5",
   "metadata": {},
   "source": [
    "### Print some samples"
   ]
  },
  {
   "cell_type": "code",
   "execution_count": 26,
   "id": "3240caa1",
   "metadata": {},
   "outputs": [
    {
     "name": "stdout",
     "output_type": "stream",
     "text": [
      "Title:\tamazing really every season sole still love always never backed away matter unbearable weather hard find people loyal enough go lucky guess seasons sole summer everything well life going smoothly bumps road fall colors fall life falls apart unlike leaf float crash hard winter rain starts fall life completely torn peaces bare winter harshest seasons emotional blizzard spring life starts anew gather often use support weak point life begins blossom\n",
      "True labels:\t14,Aries,female,indUnk\n",
      "Predicted labels:\tfemale\n",
      "\n",
      "\n",
      "Title:\tbusy entertaining british friend mine originally manchester k l kuala lumpur basically ruined asia see western guy comes hardly go back life west know two aussie brothers know thing work investment banks seoul shanghai speak respective languages life good effect korean women go places like vancouver bear leave place either anyways business partner aussie town first time went nights also american dutch friend mine koreans wanted go couple nights business like said busy went daehak ro seo pi dong pa seo west pi pi zza dong east pa pa jun korean kind omlette together western pizza eastern omlette dong dong ju kind immature makkoli rice booze man goood dong dong ju looks like porridge tastes light porridge look actually ice crystals held mixture idea make consistent way almost invariably take subway fast clean convenient unaffected recent torrential downpours monsoon typhoon season interesting stations little micro city shopping areas really large links office apartment buildings restaurants almost everything else things common lockers wondered used times store things bought day pretty good deal payphones something see lot overground washrooms better others lotto booth usually little convenience store gift shop flower shop food seller urllink amenities lockers pc bang escalators know many subway stops spruced bit things like lighted signs air conditioner units aquariums call fishbanks posters seoul subway corp show scenes totally unrelated subway travel urllink subway art air conditioner fishbank seoul subway corp poster also art shows sometimes one international children art weekend hyehwa station saw good ones one china another one aptly named snow canada home country ahhh little piece home urllink world children art china canada later\n",
      "True labels:\t33,Aquarius,InvestmentBanking,male\n",
      "Predicted labels:\t33,Aquarius,InvestmentBanking,male\n",
      "\n",
      "\n",
      "Title:\tya canada vancouver soon ah back land fresh air real mountains diapers luckily think oldest boy potty trained sure though home months lot happen time done deal boss ceo would august well year actually go back younger son first birthday urllink chot dol different name almost everything koreans st th birthdays biggies st child made often treacherous first year remember korea used really really poor much days celebration well starting become less important babies living past th urllink korean zodiac similar chinese one animals ya pig also five colors elude moment although know two black gold chinese use five elements metal earth wood fire water year urllink year wood monkey guess better urllink year wood cock rooster hehe put anyways age gone years times colors elements truly magical time guess thus age men mention women least one grandchild preferably grandson one reason happy oldest boy wife father th year foreingers call non koreans even canada reason korea called urllink hermit kingdom nothin basically foreigners something like country million us like seoul like teachers others manual labour workers china india southeast asia urllink dirty dangerous difficult jobs koreans feel longer need perform en mass foreigners weigook weigook saram treated quite differently native koreans likely good reason cases need register local ku ward borough office every months ii move another whichever comes first get alien registration card pic address well visa type teachers e fall e worker director need arc get job get bank account almost everything else official korean citizenship card promotions example bonus card urllink fantaseum koreans get movies get bonus points waaaaaaaaa also urllink foreigners cannot easily buy land korea although also heard done sure believe urllink foreign investment companies however still great amounts financial crisis fact first firms korea ever use due diligence research buying developing land korean execs seems based intuition anything else also hard foreign firms get market share unless partner local firm otis lg group concerning elevators escalators heck foreign car makers urllink local market counting gm recent purchase daewoo motors small player anyways one thing foreigners success buying parts troubled korean companies korean firms put foreign investment long possible end take foreign investors urllink daehan sengmyung life aka korea life insurance owned australia largest bank urllink macquarie bank korean firms however loathe seems disclose purchasers would consider important facts businesses urllink kyobo sengmyung life apparently months due diligence done urllink buyout firms end enough known deal foreign firms able urllink buy billions usd korean stocks urllink sk life urllink large portions korean banks urllink firms one urllink pca urllink running buy urllink daehan tooja jeunkwon daehan itc investment trust company aka daetoo names get pretty long complicated though opening place funny longer normal seems sure good thing\n",
      "True labels:\t33,Aquarius,InvestmentBanking,male\n",
      "Predicted labels:\t33,Aquarius,InvestmentBanking,male\n",
      "\n",
      "\n",
      "Title:\turllink korea times business section editorial speaks jwa seung hee president economic research institute federation korean industries mysteries korean economy western style economic reform eroded dynamism korean economy seoul become bigger bigger despite government policy balanced regional development rural community life become dismal despite policy promoting balanced development rural urban communities income disparity widened despite policy promoting egalitarianism redistributive policies competitiveness small companies weakened despite policy curbing chaebol economic concentration deepened despite policy diffuse concentration economic power exodus primary middle high school students overseas study increased government seeks standardize schools government control finance deepened amid sloganeering financial liberalization roh administration seeks scrap park chung hee economic development model created miracle han river government strengthened policies would erode corporate competitiveness business economic list like add cultural mysteries modern korean culture may koreans often speak love children sanctity marriage many men women lovers side many korean parents grandparents insist children marry koreans even though send kids overseas study hagwons language academies n f family tree everyone seems like promise living different country make move korea koreans especially young love outdoors clean air hate live country korean students hate learning english older ones seem love taking english classes even years incredible progress koreans always compare foreigners rodeo drive seoul silicon valley korea harvard korea koreans seems negative attitude toward u soldiers especially served katusa korean army training u army seem want leave leave south korea vulnerable koreans spend hours day years end studying major exams end seem stored library knowledge use everyday life even work koreans protective children yet child restraint seats one uses seatbelts back seats many koreans dogs pets many koreans eat dog another interesting story came friend mine group young people subway came station older folks waiting get kids sitting seats without word signals stood together offered seats older folks unreal things change things stay\n",
      "True labels:\t33,Aquarius,InvestmentBanking,male\n",
      "Predicted labels:\t33,Aquarius,InvestmentBanking,male\n",
      "\n",
      "\n",
      "Title:\tkoreans interesting saying referring guys like urllink gi reo gi ppa wild goose dad whenever told koreans wife kids vancouver would call know boss explained quite well although called bird urllink seagull many koreans goes like goose flies high sky vulture guess poetic flattering good eyesight therefore see things waaaay distance good family across ocean used koreans go abroad work many middle east many korean lead construction projects many families wife kids foreign place especially canada especially vancouver many dad stays seoul guys like come work whose wife likes vancouver soooo much bear live seoul put children torture living another part korea things make lot sense first seem clearer get whole story urllink majestic beautiful canada goose\n",
      "True labels:\t33,Aquarius,InvestmentBanking,male\n",
      "Predicted labels:\t33,Aquarius,InvestmentBanking,male\n",
      "\n",
      "\n"
     ]
    }
   ],
   "source": [
    "for i in range(5):\n",
    "    print('Title:\\t{}\\nTrue labels:\\t{}\\nPredicted labels:\\t{}\\n\\n'.format(\n",
    "        X_test[i],\n",
    "        ','.join(y_test_inversed[i]),\n",
    "        ','.join(pred_inversed[i])\n",
    "    ))"
   ]
  },
  {
   "cell_type": "markdown",
   "id": "33c9495c",
   "metadata": {},
   "source": [
    "## Calculate accuracy"
   ]
  },
  {
   "cell_type": "code",
   "execution_count": 27,
   "id": "76d10888",
   "metadata": {},
   "outputs": [],
   "source": [
    "from sklearn.metrics import accuracy_score\n",
    "from sklearn.metrics import f1_score\n",
    "from sklearn.metrics import average_precision_score\n",
    "from sklearn.metrics import recall_score\n",
    "\n",
    "def print_evaluation_scores(y_val, predicted):\n",
    "    print('Accuracy score: ', accuracy_score(y_val, predicted))\n",
    "    print('F1 score: ', f1_score(y_val, predicted, average='micro'))\n",
    "    print('Average precision score: ', average_precision_score(y_val, predicted, average='micro'))\n",
    "    print('Average recall score: ', recall_score(y_val, predicted, average='micro'))"
   ]
  },
  {
   "cell_type": "code",
   "execution_count": 28,
   "id": "c29023f0",
   "metadata": {},
   "outputs": [
    {
     "name": "stdout",
     "output_type": "stream",
     "text": [
      "Bag-of-words\n",
      "Accuracy score:  0.55\n",
      "F1 score:  0.7611940298507462\n",
      "Average precision score:  0.69875\n",
      "Average recall score:  0.6375\n"
     ]
    }
   ],
   "source": [
    "print('Bag-of-words')\n",
    "print_evaluation_scores(y_test, predicted_labels)"
   ]
  },
  {
   "cell_type": "code",
   "execution_count": null,
   "id": "21be4102",
   "metadata": {},
   "outputs": [],
   "source": []
  }
 ],
 "metadata": {
  "kernelspec": {
   "display_name": "Python 3 (ipykernel)",
   "language": "python",
   "name": "python3"
  },
  "language_info": {
   "codemirror_mode": {
    "name": "ipython",
    "version": 3
   },
   "file_extension": ".py",
   "mimetype": "text/x-python",
   "name": "python",
   "nbconvert_exporter": "python",
   "pygments_lexer": "ipython3",
   "version": "3.9.7"
  }
 },
 "nbformat": 4,
 "nbformat_minor": 5
}
